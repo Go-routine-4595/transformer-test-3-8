{
 "cells": [
  {
   "cell_type": "code",
   "id": "initial_id",
   "metadata": {
    "collapsed": true,
    "ExecuteTime": {
     "end_time": "2024-10-05T23:57:00.091172Z",
     "start_time": "2024-10-05T23:57:00.088025Z"
    }
   },
   "source": [
    "# to read and manipulate the data\n",
    "import pandas as pd\n",
    "import numpy as np\n",
    "from sklearn.ensemble import RandomForestClassifier\n",
    "from sklearn.model_selection import train_test_split\n",
    "\n",
    "pd.set_option('max_colwidth', None)    # setting column to the maximum column width as per the data\n",
    "\n",
    "# to visualise data\n",
    "import matplotlib.pyplot as plt\n",
    "import seaborn as sns\n",
    "\n",
    "# to compute distances\n",
    "from scipy.spatial.distance import cdist, pdist\n",
    "from sklearn.metrics import silhouette_score, confusion_matrix\n",
    "\n",
    "# importing the PyTorch Deep Learning library\n",
    "import torch\n",
    "\n",
    "# to import the model\n",
    "from sentence_transformers import SentenceTransformer\n",
    "\n",
    "# to cluster the data\n",
    "from sklearn.cluster import KMeans\n",
    "\n",
    "# to compute metrics\n",
    "from sklearn.metrics import classification_report\n",
    "\n",
    "# to avoid displaying unnecessary warnings\n",
    "import warnings\n",
    "warnings.filterwarnings(\"ignore\")"
   ],
   "outputs": [],
   "execution_count": 2
  },
  {
   "metadata": {
    "ExecuteTime": {
     "end_time": "2024-10-05T23:58:52.666554Z",
     "start_time": "2024-10-05T23:58:52.568594Z"
    }
   },
   "cell_type": "code",
   "source": [
    "# loading data into a pandas dataframe\n",
    "reviews = pd.read_csv(\"2.2+imdb_10K_sentimnets_reviews.csv\") "
   ],
   "id": "c851807271bc297d",
   "outputs": [],
   "execution_count": 4
  },
  {
   "metadata": {
    "ExecuteTime": {
     "end_time": "2024-10-05T23:59:32.822362Z",
     "start_time": "2024-10-05T23:59:32.819028Z"
    }
   },
   "cell_type": "code",
   "source": [
    "# creating a copy of the data\n",
    "data = reviews.copy()"
   ],
   "id": "3c10d0e1fe179f8a",
   "outputs": [],
   "execution_count": 5
  },
  {
   "metadata": {},
   "cell_type": "markdown",
   "source": "# Data Overview",
   "id": "eb6c7f92d55c27d9"
  },
  {
   "metadata": {},
   "cell_type": "markdown",
   "source": "## Checking the first 5 rows",
   "id": "396a8b1b217c43d"
  },
  {
   "metadata": {
    "ExecuteTime": {
     "end_time": "2024-10-06T00:00:17.065449Z",
     "start_time": "2024-10-06T00:00:17.056857Z"
    }
   },
   "cell_type": "code",
   "source": "data.head(5)",
   "id": "6ef8d0cac451f82f",
   "outputs": [
    {
     "data": {
      "text/plain": [
       "                                                                                                                                                                                                                                                                                                                                                                                                                                                                                                                                                                                                                                                                                                                                                                                                                                                                                                                                                                                                                                                                                                                                                                                                                                                                                                                                                                                                                                                                                                                                                                                                                                                                                                                                                                                                                                                                                         review  \\\n",
       "0                                                                                                                                                                                                                                                                                                                                                                                                                                                                                                                                                                                                                                                                                                                                                                                                                                                                                                                                                                                                                                                                          Okay, I know this does'nt project India in a good light. But the overall theme of the movie is not India, it's Shakti. The power of a warlord, and the power of a mother. The relationship between Nandini and her husband and son swallow you up in their warmth. Then things go terribly wrong. The interaction between Nandini and her father in law - the power of their dysfunctional relationship - and the lives changed by it are the strengths of this movie. Shah Rukh Khan's performance seems to be a mere cameo compared to the believable desperation of Karisma Kapoor. It is easy to get caught up in the love, violence and redemption of lives in this film, and find yourself heaving a sigh of relief and sadness at the climax. The musical interludes are strengths, believable and well done.   \n",
       "1  Despite John Travolta's statements in interviews that this was his favorite role of his career, \"Be Cool\" proves to be a disappointing sequel to 1995's witty and clever \"Get Shorty.\"<br /><br />Travolta delivers a pleasant enough performance in this mildly entertaining film, but ultimately the movie falls flat due to an underdeveloped plot, unlikeable characters, and a surprising lack of chemistry between leads Travolta and Uma Thurman. Although there are some laughs, this unfunny dialog example (which appeared frequently in the trailers) kind of says it all: Thurman: Do you dance? Travolta: Hey, I'm from Brooklyn.<br /><br />The film suggests that everyone in the entertainment business is a gangster or aspires to be one, likening it to organized crime. In \"Get Shorty,\" the premise of a gangster \"going legitimate\" by getting into movies was a clever fish-out-of water idea, but in \"Be Cool,\" it seems the biz has entirely gone crooked since then.<br /><br />The film is interestingly casted and the absolute highlight is a \"monolgue\" delivered by The Rock, whose character is an aspiring actor as well as a goon, where he reenacts a scene between Gabrielle Union and Kirsten Dunst from \"Bring It On.\" Vince Vaughan's character thinks he's black and he's often seen dressed as a pimp-- this was quite funny in the first scene that introduces him and gets tired and embarrassing almost immediately afterward.<br /><br />Overall, \"Be Cool\" may be worth a rental for John Travolta die-hards (of which I am one), but you may want to keep your finger close to the fast forward button to get through it without feeling that you wasted too much time. Fans of \"Get Shorty\" may actually wish to avoid this, as the sequel is devoid of most things that made that one a winner. I rate this movie an admittedly harsh 4/10.   \n",
       "2                                                                                                                                                                                                                                                                                                                                                                                                                                                                                                                                                                                                                                                                                 I am a kung fu fan, but not a Woo fan. I have no interest in gangster movies filled with over-the-top gun-play. Now, martial arts; *that's* beautiful! And John Woo surprised me here by producing a highly entertaining kung fu movie, which almost has *too much* fighting, if such a thing is possible! This is good stuff.<br /><br />Many of the fight scenes are very good (and some of them are less good), and the main characters are amusing and likable. The bad guys are a bit too unbelievably evil, but entertaining none the less. You gotta see the Sleeping Wizard!! He can only fight when he's asleep - it's hysterical!<br /><br />Upon repeated viewings, however, Last Hurrah For Chivalry can tend to get a little boring and long-winded, also especially because many of the fight scenes are actually not that good. Hence, I rate it \"only\" a 7 out of 10. But it really is almost an \"8\".<br /><br />All in all one of the better kung fu movies, made smack-dab in the heart of kung fu cinema's prime. All the really good kung fu movies are from the mid- to late 1970ies, with some notable exceptions from the late '60ies and early '70ies (and early '80ies, to be fair).   \n",
       "3                                                                                                                                                                                                                                                                                                                                                                                                                                                                                                                                                                                                                                                                                                                                                                                                                                                                                                                                                                                                                                                                                                                                             He seems to be a control freak. I have heard him comment on \"losing control of the show\" and tell another guest who brought live animals that he had one rule-\"no snakes.\" He needs to hire a comedy writer because his jokes are lame. The only reason I watch him is because he some some great guests and bands. <br /><br />I watched the Craig Ferguson show for a while but his show is even worse. He likes to bull sh** to burn time.I don't think either man has much of a future in late night talk shows.<br /><br />Daily also has the annoying habit of sticking his tongue out to lick his lips. He must do this at least 10 times a show. I do like the Joe Firstman band. Carson Daily needs to lighten up before it is too late.   \n",
       "4                                                                                                                                                                                                                                                                                                                                                                                                                                                                           Admittedly, there are some scenes in this movie that seem a little unrealistic. The ravishing woman first panics and then, only a few minutes later, she starts kissing the young lad while the old guy is right next to her. But as the film goes along we learn that she is a little volatile girl (or slut) and that partly explains her behavior. The cinematography of this movie is well done. We get to see the elevator from almost every angle and perspective, and some of those images and scenes really raise the tension. Götz George plays his character well, a wannabe hot-shot getting old and being overpowered by young men like the Jaennicke character. Wolfgang Kieling who I admired in Hitchcock's THE TORN CURTAIN delivers a great performance that, although he doesn't say much, he is by far the best actor in this play. One critic complained about how unrealistic the film was and that in a real case of emergency nothing would really happen. But then again, how realistic are films such as Mission impossible or Phone Booth. Given the fact that we are talking about a movie here, and that in a movie you always have to deal with some scenes that aren't very likely to occur in real life, you can still enjoy this movie. It's a lot better than many things that I see on German TV these days and I think that the vintage 80's style added something to this film.   \n",
       "\n",
       "   sentiment  \n",
       "0          1  \n",
       "1          0  \n",
       "2          1  \n",
       "3          0  \n",
       "4          1  "
      ],
      "text/html": [
       "<div>\n",
       "<style scoped>\n",
       "    .dataframe tbody tr th:only-of-type {\n",
       "        vertical-align: middle;\n",
       "    }\n",
       "\n",
       "    .dataframe tbody tr th {\n",
       "        vertical-align: top;\n",
       "    }\n",
       "\n",
       "    .dataframe thead th {\n",
       "        text-align: right;\n",
       "    }\n",
       "</style>\n",
       "<table border=\"1\" class=\"dataframe\">\n",
       "  <thead>\n",
       "    <tr style=\"text-align: right;\">\n",
       "      <th></th>\n",
       "      <th>review</th>\n",
       "      <th>sentiment</th>\n",
       "    </tr>\n",
       "  </thead>\n",
       "  <tbody>\n",
       "    <tr>\n",
       "      <th>0</th>\n",
       "      <td>Okay, I know this does'nt project India in a good light. But the overall theme of the movie is not India, it's Shakti. The power of a warlord, and the power of a mother. The relationship between Nandini and her husband and son swallow you up in their warmth. Then things go terribly wrong. The interaction between Nandini and her father in law - the power of their dysfunctional relationship - and the lives changed by it are the strengths of this movie. Shah Rukh Khan's performance seems to be a mere cameo compared to the believable desperation of Karisma Kapoor. It is easy to get caught up in the love, violence and redemption of lives in this film, and find yourself heaving a sigh of relief and sadness at the climax. The musical interludes are strengths, believable and well done.</td>\n",
       "      <td>1</td>\n",
       "    </tr>\n",
       "    <tr>\n",
       "      <th>1</th>\n",
       "      <td>Despite John Travolta's statements in interviews that this was his favorite role of his career, \"Be Cool\" proves to be a disappointing sequel to 1995's witty and clever \"Get Shorty.\"&lt;br /&gt;&lt;br /&gt;Travolta delivers a pleasant enough performance in this mildly entertaining film, but ultimately the movie falls flat due to an underdeveloped plot, unlikeable characters, and a surprising lack of chemistry between leads Travolta and Uma Thurman. Although there are some laughs, this unfunny dialog example (which appeared frequently in the trailers) kind of says it all: Thurman: Do you dance? Travolta: Hey, I'm from Brooklyn.&lt;br /&gt;&lt;br /&gt;The film suggests that everyone in the entertainment business is a gangster or aspires to be one, likening it to organized crime. In \"Get Shorty,\" the premise of a gangster \"going legitimate\" by getting into movies was a clever fish-out-of water idea, but in \"Be Cool,\" it seems the biz has entirely gone crooked since then.&lt;br /&gt;&lt;br /&gt;The film is interestingly casted and the absolute highlight is a \"monolgue\" delivered by The Rock, whose character is an aspiring actor as well as a goon, where he reenacts a scene between Gabrielle Union and Kirsten Dunst from \"Bring It On.\" Vince Vaughan's character thinks he's black and he's often seen dressed as a pimp-- this was quite funny in the first scene that introduces him and gets tired and embarrassing almost immediately afterward.&lt;br /&gt;&lt;br /&gt;Overall, \"Be Cool\" may be worth a rental for John Travolta die-hards (of which I am one), but you may want to keep your finger close to the fast forward button to get through it without feeling that you wasted too much time. Fans of \"Get Shorty\" may actually wish to avoid this, as the sequel is devoid of most things that made that one a winner. I rate this movie an admittedly harsh 4/10.</td>\n",
       "      <td>0</td>\n",
       "    </tr>\n",
       "    <tr>\n",
       "      <th>2</th>\n",
       "      <td>I am a kung fu fan, but not a Woo fan. I have no interest in gangster movies filled with over-the-top gun-play. Now, martial arts; *that's* beautiful! And John Woo surprised me here by producing a highly entertaining kung fu movie, which almost has *too much* fighting, if such a thing is possible! This is good stuff.&lt;br /&gt;&lt;br /&gt;Many of the fight scenes are very good (and some of them are less good), and the main characters are amusing and likable. The bad guys are a bit too unbelievably evil, but entertaining none the less. You gotta see the Sleeping Wizard!! He can only fight when he's asleep - it's hysterical!&lt;br /&gt;&lt;br /&gt;Upon repeated viewings, however, Last Hurrah For Chivalry can tend to get a little boring and long-winded, also especially because many of the fight scenes are actually not that good. Hence, I rate it \"only\" a 7 out of 10. But it really is almost an \"8\".&lt;br /&gt;&lt;br /&gt;All in all one of the better kung fu movies, made smack-dab in the heart of kung fu cinema's prime. All the really good kung fu movies are from the mid- to late 1970ies, with some notable exceptions from the late '60ies and early '70ies (and early '80ies, to be fair).</td>\n",
       "      <td>1</td>\n",
       "    </tr>\n",
       "    <tr>\n",
       "      <th>3</th>\n",
       "      <td>He seems to be a control freak. I have heard him comment on \"losing control of the show\" and tell another guest who brought live animals that he had one rule-\"no snakes.\" He needs to hire a comedy writer because his jokes are lame. The only reason I watch him is because he some some great guests and bands. &lt;br /&gt;&lt;br /&gt;I watched the Craig Ferguson show for a while but his show is even worse. He likes to bull sh** to burn time.I don't think either man has much of a future in late night talk shows.&lt;br /&gt;&lt;br /&gt;Daily also has the annoying habit of sticking his tongue out to lick his lips. He must do this at least 10 times a show. I do like the Joe Firstman band. Carson Daily needs to lighten up before it is too late.</td>\n",
       "      <td>0</td>\n",
       "    </tr>\n",
       "    <tr>\n",
       "      <th>4</th>\n",
       "      <td>Admittedly, there are some scenes in this movie that seem a little unrealistic. The ravishing woman first panics and then, only a few minutes later, she starts kissing the young lad while the old guy is right next to her. But as the film goes along we learn that she is a little volatile girl (or slut) and that partly explains her behavior. The cinematography of this movie is well done. We get to see the elevator from almost every angle and perspective, and some of those images and scenes really raise the tension. Götz George plays his character well, a wannabe hot-shot getting old and being overpowered by young men like the Jaennicke character. Wolfgang Kieling who I admired in Hitchcock's THE TORN CURTAIN delivers a great performance that, although he doesn't say much, he is by far the best actor in this play. One critic complained about how unrealistic the film was and that in a real case of emergency nothing would really happen. But then again, how realistic are films such as Mission impossible or Phone Booth. Given the fact that we are talking about a movie here, and that in a movie you always have to deal with some scenes that aren't very likely to occur in real life, you can still enjoy this movie. It's a lot better than many things that I see on German TV these days and I think that the vintage 80's style added something to this film.</td>\n",
       "      <td>1</td>\n",
       "    </tr>\n",
       "  </tbody>\n",
       "</table>\n",
       "</div>"
      ]
     },
     "execution_count": 6,
     "metadata": {},
     "output_type": "execute_result"
    }
   ],
   "execution_count": 6
  },
  {
   "metadata": {
    "ExecuteTime": {
     "end_time": "2024-10-06T00:09:29.575375Z",
     "start_time": "2024-10-06T00:09:29.572833Z"
    }
   },
   "cell_type": "code",
   "source": "data['sentiment'].unique()",
   "id": "c8290dc2ef3dad2d",
   "outputs": [
    {
     "data": {
      "text/plain": [
       "array([1, 0])"
      ]
     },
     "execution_count": 19,
     "metadata": {},
     "output_type": "execute_result"
    }
   ],
   "execution_count": 19
  },
  {
   "metadata": {},
   "cell_type": "markdown",
   "source": "## Checking the shape",
   "id": "e9b55bfd36a83833"
  },
  {
   "metadata": {
    "ExecuteTime": {
     "end_time": "2024-10-06T00:01:46.429453Z",
     "start_time": "2024-10-06T00:01:46.426344Z"
    }
   },
   "cell_type": "code",
   "source": "data.shape",
   "id": "b0dca6fee93ece9d",
   "outputs": [
    {
     "data": {
      "text/plain": [
       "(10000, 2)"
      ]
     },
     "execution_count": 7,
     "metadata": {},
     "output_type": "execute_result"
    }
   ],
   "execution_count": 7
  },
  {
   "metadata": {},
   "cell_type": "markdown",
   "source": [
    "\n",
    "## **Checking for missing values**\n"
   ],
   "id": "6823645f38f994a3"
  },
  {
   "metadata": {
    "ExecuteTime": {
     "end_time": "2024-10-06T00:02:36.817646Z",
     "start_time": "2024-10-06T00:02:36.811572Z"
    }
   },
   "cell_type": "code",
   "source": "data.isnull().sum()",
   "id": "848ae72f0e7bc458",
   "outputs": [
    {
     "data": {
      "text/plain": [
       "review       0\n",
       "sentiment    0\n",
       "dtype: int64"
      ]
     },
     "execution_count": 9,
     "metadata": {},
     "output_type": "execute_result"
    }
   ],
   "execution_count": 9
  },
  {
   "metadata": {},
   "cell_type": "markdown",
   "source": [
    "\n",
    "## Checking for duplicate values"
   ],
   "id": "af6845955a63e264"
  },
  {
   "metadata": {
    "ExecuteTime": {
     "end_time": "2024-10-06T00:02:41.393554Z",
     "start_time": "2024-10-06T00:02:41.351914Z"
    }
   },
   "cell_type": "code",
   "source": [
    "\n",
    "# checking for duplicate values\n",
    "data.duplicated().sum()"
   ],
   "id": "5ae4ebeeca8301dc",
   "outputs": [
    {
     "data": {
      "text/plain": [
       "18"
      ]
     },
     "execution_count": 10,
     "metadata": {},
     "output_type": "execute_result"
    }
   ],
   "execution_count": 10
  },
  {
   "metadata": {
    "ExecuteTime": {
     "end_time": "2024-10-06T00:03:00.305154Z",
     "start_time": "2024-10-06T00:03:00.265737Z"
    }
   },
   "cell_type": "code",
   "source": [
    "\n",
    "# keeping only the first occurence of duplicate values and dropping the rest\n",
    "data = data.drop_duplicates(keep='first')"
   ],
   "id": "6d8152a0c7cc6e77",
   "outputs": [],
   "execution_count": 11
  },
  {
   "metadata": {
    "ExecuteTime": {
     "end_time": "2024-10-06T00:03:02.692087Z",
     "start_time": "2024-10-06T00:03:02.688908Z"
    }
   },
   "cell_type": "code",
   "source": [
    "\n",
    "# reseting the index of the dataframe\n",
    "data = data.reset_index(drop=True)"
   ],
   "id": "a0ed37307d8b9906",
   "outputs": [],
   "execution_count": 12
  },
  {
   "metadata": {
    "ExecuteTime": {
     "end_time": "2024-10-06T00:03:04.953443Z",
     "start_time": "2024-10-06T00:03:04.869394Z"
    }
   },
   "cell_type": "code",
   "source": [
    "\n",
    "## **Checking the distribution of sentiments**\n",
    "sns.countplot(data=data, x='sentiment');"
   ],
   "id": "8b0c2fdf933d21f",
   "outputs": [
    {
     "data": {
      "text/plain": [
       "<Figure size 640x480 with 1 Axes>"
      ],
      "image/png": "[encoded data removed]"
     },
     "metadata": {},
     "output_type": "display_data"
    }
   ],
   "execution_count": 13
  },
  {
   "metadata": {},
   "cell_type": "markdown",
   "source": "# Defining the transformer",
   "id": "9fd6a53817bba6e7"
  },
  {
   "metadata": {
    "ExecuteTime": {
     "end_time": "2024-10-06T00:04:48.648816Z",
     "start_time": "2024-10-06T00:04:47.016139Z"
    }
   },
   "cell_type": "code",
   "source": [
    "#Defining the model\n",
    "model = SentenceTransformer('sentence-transformers/all-MiniLM-L6-v2')\n",
    "# other models to choose from\n",
    "# https://www.sbert.net/docs/pretrained_model.html\n",
    "# https://huggingface.co/spaces/mteb/leaderborad\n",
    "# model = SentenceTransformer('BAAI/bge-base-en-v1.5')"
   ],
   "id": "41d8b61be5c8b764",
   "outputs": [],
   "execution_count": 14
  },
  {
   "metadata": {},
   "cell_type": "markdown",
   "source": "## Encoding the dataset",
   "id": "dea027d9f4178e84"
  },
  {
   "metadata": {
    "ExecuteTime": {
     "end_time": "2024-10-06T00:05:19.163349Z",
     "start_time": "2024-10-06T00:05:19.160381Z"
    }
   },
   "cell_type": "code",
   "source": [
    "# setting the device to GPU if available, else CPU\n",
    "device = torch.device(\"cuda\" if torch.cuda.is_available() else \"cpu\")"
   ],
   "id": "8c2a6942d48224e9",
   "outputs": [],
   "execution_count": 15
  },
  {
   "metadata": {
    "ExecuteTime": {
     "end_time": "2024-10-06T00:08:10.462670Z",
     "start_time": "2024-10-06T00:05:53.361160Z"
    }
   },
   "cell_type": "code",
   "source": [
    "# encoding the dataset\n",
    "embedding_matrix = model.encode(data['review'], show_progress_bar=True, device=device)"
   ],
   "id": "8fc0902f1c2a3dd",
   "outputs": [
    {
     "name": "stderr",
     "output_type": "stream",
     "text": [
      "Batches: 100%|██████████| 312/312 [02:16<00:00,  2.28it/s]\n"
     ]
    }
   ],
   "execution_count": 16
  },
  {
   "metadata": {},
   "cell_type": "markdown",
   "source": "# Sentiments Analysis Model Building",
   "id": "446c8ae0b2f1ad7a"
  },
  {
   "metadata": {
    "ExecuteTime": {
     "end_time": "2024-10-06T00:13:51.651072Z",
     "start_time": "2024-10-06T00:13:51.558553Z"
    }
   },
   "cell_type": "code",
   "source": [
    "from sklearn.model_selection import train_test_split\n",
    "from sklearn.ensemble import RandomForestClassifier"
   ],
   "id": "1ec4066a022ecdab",
   "outputs": [],
   "execution_count": 26
  },
  {
   "metadata": {
    "ExecuteTime": {
     "end_time": "2024-10-06T00:12:54.713749Z",
     "start_time": "2024-10-06T00:12:54.705836Z"
    }
   },
   "cell_type": "code",
   "source": [
    "X = embedding_matrix\n",
    "y = data['sentiment']\n",
    "X_train, X_test, y_train, y_test = train_test_split(X, y, test_size=0.25, random_state=42)"
   ],
   "id": "6d81dcc9ab97ae3b",
   "outputs": [],
   "execution_count": 24
  },
  {
   "metadata": {
    "ExecuteTime": {
     "end_time": "2024-10-06T00:14:19.446563Z",
     "start_time": "2024-10-06T00:14:15.934738Z"
    }
   },
   "cell_type": "code",
   "source": [
    "rf_transformer = RandomForestClassifier(n_estimators=100, max_depth=7, random_state=42)\n",
    "rf_transformer.fit(X_train, y_train)"
   ],
   "id": "42dc04b6071a7038",
   "outputs": [
    {
     "data": {
      "text/plain": [
       "RandomForestClassifier(max_depth=7, random_state=42)"
      ]
     },
     "execution_count": 28,
     "metadata": {},
     "output_type": "execute_result"
    }
   ],
   "execution_count": 28
  },
  {
   "metadata": {
    "ExecuteTime": {
     "end_time": "2024-10-06T00:15:02.685109Z",
     "start_time": "2024-10-06T00:15:02.621393Z"
    }
   },
   "cell_type": "code",
   "source": [
    "y_pred_train = rf_transformer.predict(X_train)\n",
    "y_pred_test = rf_transformer.predict(X_test)"
   ],
   "id": "764ac7e7bcf56a38",
   "outputs": [],
   "execution_count": 29
  },
  {
   "metadata": {
    "ExecuteTime": {
     "end_time": "2024-10-06T00:18:09.511064Z",
     "start_time": "2024-10-06T00:18:09.508509Z"
    }
   },
   "cell_type": "code",
   "source": [
    "from sklearn.metrics import classification_report\n",
    "from sklearn.metrics import confusion_matrix\n",
    "def plot_consfusion_matric(actual, predicted, labels=None):\n",
    "    cm = confusion_matrix(actual, predicted)\n",
    "    plt.figure(figsize=(10,10))\n",
    "    sns.heatmap(cm, annot=True, fmt='.0f', xticklabels=labels, yticklabels=labels)\n",
    "    plt.title('Confusion Matrix')\n",
    "    plt.ylabel('Actual')\n",
    "    plt.xlabel('Predicted')\n",
    "    plt.show()"
   ],
   "id": "8a625f24bef8ff48",
   "outputs": [],
   "execution_count": 37
  },
  {
   "metadata": {
    "ExecuteTime": {
     "end_time": "2024-10-06T00:18:10.040557Z",
     "start_time": "2024-10-06T00:18:09.954877Z"
    }
   },
   "cell_type": "code",
   "source": "plot_consfusion_matric(y_train, y_pred_train, labels=['positive', 'negative'])",
   "id": "1063b91a67412650",
   "outputs": [
    {
     "data": {
      "text/plain": [
       "<Figure size 1000x1000 with 2 Axes>"
      ],
      "image/png": "[encoded data removed]"
     },
     "metadata": {},
     "output_type": "display_data"
    }
   ],
   "execution_count": 38
  },
  {
   "metadata": {
    "ExecuteTime": {
     "end_time": "2024-10-06T00:18:26.080570Z",
     "start_time": "2024-10-06T00:18:25.985101Z"
    }
   },
   "cell_type": "code",
   "source": "plot_consfusion_matric(y_test, y_pred_test, labels=['positive', 'negative'])",
   "id": "fce3ff59d3af1f00",
   "outputs": [
    {
     "data": {
      "text/plain": [
       "<Figure size 1000x1000 with 2 Axes>"
      ],
      "image/png": "[encoded data removed]"
     },
     "metadata": {},
     "output_type": "display_data"
    }
   ],
   "execution_count": 39
  },
  {
   "metadata": {},
   "cell_type": "markdown",
   "source": "# Using a pre trained model \n",
   "id": "9ebfe853fd3e3b8c"
  },
  {
   "metadata": {
    "ExecuteTime": {
     "end_time": "2024-10-06T00:21:06.438744Z",
     "start_time": "2024-10-06T00:21:06.232088Z"
    }
   },
   "cell_type": "code",
   "source": "from transformers import pipeline",
   "id": "dff08fb8abce528c",
   "outputs": [],
   "execution_count": 40
  },
  {
   "metadata": {
    "ExecuteTime": {
     "end_time": "2024-10-06T00:21:12.779201Z",
     "start_time": "2024-10-06T00:21:08.255969Z"
    }
   },
   "cell_type": "code",
   "source": "sentiment_hf = pipeline(\"sentiment-analysis\")",
   "id": "d13302e5ab01f00a",
   "outputs": [
    {
     "name": "stderr",
     "output_type": "stream",
     "text": [
      "No model was supplied, defaulted to distilbert/distilbert-base-uncased-finetuned-sst-2-english and revision af0f99b (https://huggingface.co/distilbert/distilbert-base-uncased-finetuned-sst-2-english).\n",
      "Using a pipeline without specifying a model name and revision in production is not recommended.\n",
      "Hardware accelerator e.g. GPU is available in the environment, but no `device` argument is passed to the `Pipeline` object. Model will be on CPU.\n"
     ]
    }
   ],
   "execution_count": 41
  },
  {
   "metadata": {},
   "cell_type": "markdown",
   "source": [
    "we can choose to use any other model by including a model argument like:\n",
    "```python\n",
    "sentiment_hf = pipeline(model=\"finiteautomata/bretweet-base-sentiment-analysis)\n",
    "```\n",
    "or\n",
    "nlptown/bret-base-multilinggual-uncased-sentiment\n",
    "many more models can be found at https://huggingace.co/models?pipleline_tag=text-classification&sort=trending&serach=sentimnent\n",
    "these are all text-classification models...sentiment analysis is a special case of test classifiation\n",
    "\n"
   ],
   "id": "bc70f71211a1ceb1"
  },
  {
   "metadata": {
    "ExecuteTime": {
     "end_time": "2024-10-06T00:25:41.196958Z",
     "start_time": "2024-10-06T00:25:41.194792Z"
    }
   },
   "cell_type": "code",
   "source": [
    "trial_data = [\n",
    "    \"I love this movie\",\n",
    "    \"I hate this movie\",\n",
    "    \"I am happy\",\n",
    "    \"I am sad\",\n",
    "    \"I am tired\",\n",
    "    \"I am bored\"\n",
    "]"
   ],
   "id": "e39e1b205e0bb8a1",
   "outputs": [],
   "execution_count": 42
  },
  {
   "metadata": {
    "ExecuteTime": {
     "end_time": "2024-10-06T00:25:49.697682Z",
     "start_time": "2024-10-06T00:25:49.465030Z"
    }
   },
   "cell_type": "code",
   "source": "sentiment_hf(trial_data)",
   "id": "3df2a4168446b80d",
   "outputs": [
    {
     "data": {
      "text/plain": [
       "[{'label': 'POSITIVE', 'score': 0.9998766183853149},\n",
       " {'label': 'NEGATIVE', 'score': 0.9996687173843384},\n",
       " {'label': 'POSITIVE', 'score': 0.9998801946640015},\n",
       " {'label': 'NEGATIVE', 'score': 0.9991856217384338},\n",
       " {'label': 'NEGATIVE', 'score': 0.9997807145118713},\n",
       " {'label': 'NEGATIVE', 'score': 0.9998152852058411}]"
      ]
     },
     "execution_count": 43,
     "metadata": {},
     "output_type": "execute_result"
    }
   ],
   "execution_count": 43
  },
  {
   "metadata": {
    "ExecuteTime": {
     "end_time": "2024-10-06T00:56:38.324862Z",
     "start_time": "2024-10-06T00:29:36.322398Z"
    }
   },
   "cell_type": "code",
   "source": "hf_review_dict = sentiment_hf(data['review'].to_list(), truncation=True) # very long review will be truncated to 512 tokens...which isn't greate!",
   "id": "21393a6260167c7b",
   "outputs": [],
   "execution_count": 45
  },
  {
   "metadata": {},
   "cell_type": "markdown",
   "source": "Create a new vector hf_review_sent ",
   "id": "31fa47b8806b4156"
  },
  {
   "metadata": {},
   "cell_type": "markdown",
   "source": [
    "## Google FLAN-T5\n",
    "FLAN-T5 developed by Google Research, is a \"Fine tuned LAnguage Net\" FLAN with Text-To-Text Transfer Transformer T-5"
   ],
   "id": "811dbe93b420180e"
  },
  {
   "metadata": {
    "ExecuteTime": {
     "end_time": "2024-10-06T00:58:20.161415Z",
     "start_time": "2024-10-06T00:58:20.155361Z"
    }
   },
   "cell_type": "code",
   "source": "from transformers import T5Tokenizer, T5ForConditionalGeneration",
   "id": "3adce537b5a51666",
   "outputs": [],
   "execution_count": 46
  },
  {
   "metadata": {
    "ExecuteTime": {
     "end_time": "2024-10-06T00:58:22.807859Z",
     "start_time": "2024-10-06T00:58:22.709457Z"
    }
   },
   "cell_type": "code",
   "source": [
    "# initialize a T5 tokenizer using the pre-trained model\n",
    "tokenizer = T5Tokenizer.from_pretrained('google/flan-t5-small')"
   ],
   "id": "54ba1a28024c8c5b",
   "outputs": [
    {
     "ename": "ImportError",
     "evalue": "\nT5Tokenizer requires the SentencePiece library but it was not found in your environment. Checkout the instructions on the\ninstallation page of its repo: https://github.com/google/sentencepiece#installation and follow the ones\nthat match your environment. Please note that you may need to restart your runtime after installation.\n",
     "output_type": "error",
     "traceback": [
      "\u001B[0;31m---------------------------------------------------------------------------\u001B[0m",
      "\u001B[0;31mImportError\u001B[0m                               Traceback (most recent call last)",
      "Cell \u001B[0;32mIn[47], line 2\u001B[0m\n\u001B[1;32m      1\u001B[0m \u001B[38;5;66;03m# initialize a T5 tokenizer using the pre-trained model\u001B[39;00m\n\u001B[0;32m----> 2\u001B[0m tokenizer \u001B[38;5;241m=\u001B[39m \u001B[43mT5Tokenizer\u001B[49m\u001B[38;5;241;43m.\u001B[39;49m\u001B[43mfrom_pretrained\u001B[49m(\u001B[38;5;124m'\u001B[39m\u001B[38;5;124mgoogle/flan-t5-small\u001B[39m\u001B[38;5;124m'\u001B[39m)\n",
      "File \u001B[0;32m~/miniconda3/envs/transformer-3-8/lib/python3.8/site-packages/transformers/utils/import_utils.py:1543\u001B[0m, in \u001B[0;36mDummyObject.__getattribute__\u001B[0;34m(cls, key)\u001B[0m\n\u001B[1;32m   1541\u001B[0m \u001B[38;5;28;01mif\u001B[39;00m key\u001B[38;5;241m.\u001B[39mstartswith(\u001B[38;5;124m\"\u001B[39m\u001B[38;5;124m_\u001B[39m\u001B[38;5;124m\"\u001B[39m) \u001B[38;5;129;01mand\u001B[39;00m key \u001B[38;5;241m!=\u001B[39m \u001B[38;5;124m\"\u001B[39m\u001B[38;5;124m_from_config\u001B[39m\u001B[38;5;124m\"\u001B[39m:\n\u001B[1;32m   1542\u001B[0m     \u001B[38;5;28;01mreturn\u001B[39;00m \u001B[38;5;28msuper\u001B[39m()\u001B[38;5;241m.\u001B[39m\u001B[38;5;21m__getattribute__\u001B[39m(key)\n\u001B[0;32m-> 1543\u001B[0m \u001B[43mrequires_backends\u001B[49m\u001B[43m(\u001B[49m\u001B[38;5;28;43mcls\u001B[39;49m\u001B[43m,\u001B[49m\u001B[43m \u001B[49m\u001B[38;5;28;43mcls\u001B[39;49m\u001B[38;5;241;43m.\u001B[39;49m\u001B[43m_backends\u001B[49m\u001B[43m)\u001B[49m\n",
      "File \u001B[0;32m~/miniconda3/envs/transformer-3-8/lib/python3.8/site-packages/transformers/utils/import_utils.py:1531\u001B[0m, in \u001B[0;36mrequires_backends\u001B[0;34m(obj, backends)\u001B[0m\n\u001B[1;32m   1529\u001B[0m failed \u001B[38;5;241m=\u001B[39m [msg\u001B[38;5;241m.\u001B[39mformat(name) \u001B[38;5;28;01mfor\u001B[39;00m available, msg \u001B[38;5;129;01min\u001B[39;00m checks \u001B[38;5;28;01mif\u001B[39;00m \u001B[38;5;129;01mnot\u001B[39;00m available()]\n\u001B[1;32m   1530\u001B[0m \u001B[38;5;28;01mif\u001B[39;00m failed:\n\u001B[0;32m-> 1531\u001B[0m     \u001B[38;5;28;01mraise\u001B[39;00m \u001B[38;5;167;01mImportError\u001B[39;00m(\u001B[38;5;124m\"\u001B[39m\u001B[38;5;124m\"\u001B[39m\u001B[38;5;241m.\u001B[39mjoin(failed))\n",
      "\u001B[0;31mImportError\u001B[0m: \nT5Tokenizer requires the SentencePiece library but it was not found in your environment. Checkout the instructions on the\ninstallation page of its repo: https://github.com/google/sentencepiece#installation and follow the ones\nthat match your environment. Please note that you may need to restart your runtime after installation.\n"
     ]
    }
   ],
   "execution_count": 47
  },
  {
   "metadata": {},
   "cell_type": "code",
   "outputs": [],
   "execution_count": null,
   "source": "model = T5ForConditionalGeneration.from_pretrained('google/flan-t5-small', load_in_8bit=True, device_map=\"auto\")",
   "id": "c8a4326d36732a5d"
  },
  {
   "metadata": {},
   "cell_type": "code",
   "outputs": [],
   "execution_count": null,
   "source": [
    "# defining a function to generate, process, and return aresponse\n",
    "def generate_response(promt):\n",
    "    input_ids = tokenizer.encode(promt, return_tensors='pt')\n",
    "    ouputs = model.generate(input_ids, max_length=16, do_sample=True, early_stopping=True, temperature=0.001)\n",
    "    return tokenizer.decode(ouputs[0])[6:-4]"
   ],
   "id": "11ee7d571b0a1878"
  },
  {
   "metadata": {},
   "cell_type": "markdown",
   "source": [
    "in the generate() function define above, the following arguments were used:\n",
    "1. max_length: this parameter determines the maximum lenght of the generated sequence. In the provided code, max_length is set to 300, which means the generated sequence should bot exceed 300 tokens\n",
    "2. temperature: the temperature parameter controls the level of randomness in the generation process. A higher temperature (e.g., closer to 1) makes the output more diverse and creative but potentially less focused, while a lower temprature (e.g., close to 9) produces more deterministic and focused but potentially repetitive outputs. In the code, temperature is set to 0.001, indicating a very low temperature and consequently, a more deterministic sampling. \n",
    "3. do_sample: this is a boolean parameter that determines whether to use sampling during generation (do_sample=True) or use greedy decoding (do_sample=False). When set to True, as in the provided code, the model samples from the distribution of predicated tokens at each step, introducing randomness in the generation process. "
   ],
   "id": "aaf5f8e455270872"
  }
 ],
 "metadata": {
  "kernelspec": {
   "display_name": "Python 3",
   "language": "python",
   "name": "python3"
  },
  "language_info": {
   "codemirror_mode": {
    "name": "ipython",
    "version": 2
   },
   "file_extension": ".py",
   "mimetype": "text/x-python",
   "name": "python",
   "nbconvert_exporter": "python",
   "pygments_lexer": "ipython2",
   "version": "2.7.6"
  }
 },
 "nbformat": 4,
 "nbformat_minor": 5
}
