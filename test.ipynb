{
 "cells": [
  {
   "cell_type": "code",
   "id": "initial_id",
   "metadata": {
    "collapsed": true,
    "ExecuteTime": {
     "end_time": "2024-10-05T22:50:56.486625Z",
     "start_time": "2024-10-05T22:50:56.484653Z"
    }
   },
   "source": "from tqdm import tqdm, trange",
   "outputs": [],
   "execution_count": 4
  },
  {
   "metadata": {
    "ExecuteTime": {
     "end_time": "2024-10-05T22:54:45.686991Z",
     "start_time": "2024-10-05T22:54:45.684340Z"
    }
   },
   "cell_type": "code",
   "source": [
    "# to read and manipulate the data\n",
    "import pandas as pd\n",
    "import numpy as np\n",
    "pd.set_option('max_colwidth', None)    # setting column to the maximum column width as per the data"
   ],
   "id": "d972c3707bdff9c9",
   "outputs": [],
   "execution_count": 6
  },
  {
   "metadata": {
    "ExecuteTime": {
     "end_time": "2024-10-05T22:56:07.372524Z",
     "start_time": "2024-10-05T22:56:07.204685Z"
    }
   },
   "cell_type": "code",
   "source": [
    "\n",
    "# to visualise data\n",
    "import matplotlib.pyplot as plt\n",
    "import seaborn as sns"
   ],
   "id": "8076c1c8390decdb",
   "outputs": [],
   "execution_count": 9
  },
  {
   "metadata": {
    "ExecuteTime": {
     "end_time": "2024-10-05T22:56:24.751760Z",
     "start_time": "2024-10-05T22:56:24.749383Z"
    }
   },
   "cell_type": "code",
   "source": [
    "# to compute distances\n",
    "from scipy.spatial.distance import cdist, pdist\n",
    "from sklearn.metrics import silhouette_score"
   ],
   "id": "6104a6f4c201f382",
   "outputs": [],
   "execution_count": 10
  },
  {
   "metadata": {
    "ExecuteTime": {
     "end_time": "2024-10-05T22:56:43.315564Z",
     "start_time": "2024-10-05T22:56:43.313552Z"
    }
   },
   "cell_type": "code",
   "source": [
    "# importing the PyTorch Deep Learning library\n",
    "import torch"
   ],
   "id": "f84c90cf7b3883b9",
   "outputs": [],
   "execution_count": 11
  },
  {
   "metadata": {
    "ExecuteTime": {
     "end_time": "2024-10-05T22:54:11.182959Z",
     "start_time": "2024-10-05T22:54:11.180713Z"
    }
   },
   "cell_type": "code",
   "source": "from sentence_transformers import SentenceTransformer",
   "id": "95afa328738f694e",
   "outputs": [],
   "execution_count": 5
  },
  {
   "metadata": {
    "ExecuteTime": {
     "end_time": "2024-10-05T22:56:54.979073Z",
     "start_time": "2024-10-05T22:56:54.871078Z"
    }
   },
   "cell_type": "code",
   "source": [
    "# to cluster the data\n",
    "from sklearn.cluster import KMeans"
   ],
   "id": "c51dad78f21198ef",
   "outputs": [],
   "execution_count": 12
  },
  {
   "metadata": {
    "ExecuteTime": {
     "end_time": "2024-10-05T22:57:06.473852Z",
     "start_time": "2024-10-05T22:57:06.471851Z"
    }
   },
   "cell_type": "code",
   "source": [
    "# to compute metrics\n",
    "from sklearn.metrics import classification_report"
   ],
   "id": "fccccb81b71349e8",
   "outputs": [],
   "execution_count": 13
  },
  {
   "metadata": {
    "ExecuteTime": {
     "end_time": "2024-10-05T22:57:15.026241Z",
     "start_time": "2024-10-05T22:57:15.024540Z"
    }
   },
   "cell_type": "code",
   "source": [
    "\n",
    "# to avoid displaying unnecessary warnings\n",
    "import warnings\n",
    "warnings.filterwarnings(\"ignore\")"
   ],
   "id": "e1ce47438492aa09",
   "outputs": [],
   "execution_count": 14
  },
  {
   "metadata": {
    "ExecuteTime": {
     "end_time": "2024-10-05T22:58:00.965696Z",
     "start_time": "2024-10-05T22:58:00.927545Z"
    }
   },
   "cell_type": "code",
   "source": "reviews = pd.read_csv(\"news_articles.csv\")",
   "id": "285230091fbdb1ac",
   "outputs": [],
   "execution_count": 15
  }
 ],
 "metadata": {
  "kernelspec": {
   "display_name": "Python 3",
   "language": "python",
   "name": "python3"
  },
  "language_info": {
   "codemirror_mode": {
    "name": "ipython",
    "version": 2
   },
   "file_extension": ".py",
   "mimetype": "text/x-python",
   "name": "python",
   "nbconvert_exporter": "python",
   "pygments_lexer": "ipython2",
   "version": "2.7.6"
  }
 },
 "nbformat": 4,
 "nbformat_minor": 5
}
